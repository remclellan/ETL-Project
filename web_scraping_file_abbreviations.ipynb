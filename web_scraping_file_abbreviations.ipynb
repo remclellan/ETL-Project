{
 "cells": [
  {
   "cell_type": "markdown",
   "metadata": {
    "slideshow": {
     "slide_type": "slide"
    }
   },
   "source": [
    "# Web Scraping Wikipedia Page for States and Abbreviations\n",
    "\n",
    "Using the pandas to scrape page for df set of States and their Abbreviations to help match up for datasets."
   ]
  },
  {
   "cell_type": "markdown",
   "metadata": {},
   "source": [
    "### Import dependencies"
   ]
  },
  {
   "cell_type": "code",
   "execution_count": 18,
   "metadata": {
    "slideshow": {
     "slide_type": "slide"
    }
   },
   "outputs": [],
   "source": [
    "import pandas as pd\n",
    "import os"
   ]
  },
  {
   "cell_type": "markdown",
   "metadata": {
    "slideshow": {
     "slide_type": "subslide"
    }
   },
   "source": [
    "### Define a variable to store the [URL for US capitals](https://en.wikipedia.org/wiki/List_of_capitals_in_the_United_States)"
   ]
  },
  {
   "cell_type": "code",
   "execution_count": 10,
   "metadata": {
    "slideshow": {
     "slide_type": "fragment"
    }
   },
   "outputs": [],
   "source": [
    "url = 'https://en.wikipedia.org/wiki/List_of_capitals_in_the_United_States'"
   ]
  },
  {
   "cell_type": "markdown",
   "metadata": {},
   "source": [
    "### Read HTML page with Pandas\n",
    "We can use the [`read_html`](https://pandas.pydata.org/pandas-docs/stable/reference/api/pandas.read_html.html) function in Pandas to automatically scrape any tabular data from a page."
   ]
  },
  {
   "cell_type": "code",
   "execution_count": 16,
   "metadata": {
    "slideshow": {
     "slide_type": "fragment"
    }
   },
   "outputs": [
    {
     "data": {
      "text/plain": [
       "7"
      ]
     },
     "execution_count": 16,
     "metadata": {},
     "output_type": "execute_result"
    }
   ],
   "source": [
    "tables = pd.read_html(url)\n",
    "len(tables)"
   ]
  },
  {
   "cell_type": "markdown",
   "metadata": {
    "slideshow": {
     "slide_type": "subslide"
    }
   },
   "source": [
    "### Pulling the main table that has all State Data\n",
    "This table has multiple pieces of information with regards to the US States, including Abbreviations."
   ]
  },
  {
   "cell_type": "code",
   "execution_count": 13,
   "metadata": {
    "slideshow": {
     "slide_type": "fragment"
    }
   },
   "outputs": [
    {
     "data": {
      "text/html": [
       "<div>\n",
       "<style scoped>\n",
       "    .dataframe tbody tr th:only-of-type {\n",
       "        vertical-align: middle;\n",
       "    }\n",
       "\n",
       "    .dataframe tbody tr th {\n",
       "        vertical-align: top;\n",
       "    }\n",
       "\n",
       "    .dataframe thead th {\n",
       "        text-align: right;\n",
       "    }\n",
       "</style>\n",
       "<table border=\"1\" class=\"dataframe\">\n",
       "  <thead>\n",
       "    <tr style=\"text-align: right;\">\n",
       "      <th></th>\n",
       "      <th>State</th>\n",
       "      <th>Abr.</th>\n",
       "      <th>State-hood Rank</th>\n",
       "      <th>Capital</th>\n",
       "      <th>Capital Since</th>\n",
       "      <th>Area (sq-mi)</th>\n",
       "      <th>Municipal Population</th>\n",
       "      <th>Metropolitan</th>\n",
       "      <th>Metropolitan Population</th>\n",
       "      <th>Population Rank</th>\n",
       "      <th>Notes</th>\n",
       "    </tr>\n",
       "  </thead>\n",
       "  <tbody>\n",
       "    <tr>\n",
       "      <th>0</th>\n",
       "      <td>Alabama</td>\n",
       "      <td>AL</td>\n",
       "      <td>1819</td>\n",
       "      <td>Montgomery</td>\n",
       "      <td>1846</td>\n",
       "      <td>159.8</td>\n",
       "      <td>198218</td>\n",
       "      <td>373903.0</td>\n",
       "      <td>2</td>\n",
       "      <td>119.0</td>\n",
       "      <td>Birmingham is the state's largest city.</td>\n",
       "    </tr>\n",
       "    <tr>\n",
       "      <th>1</th>\n",
       "      <td>Alaska</td>\n",
       "      <td>AK</td>\n",
       "      <td>1959</td>\n",
       "      <td>Juneau</td>\n",
       "      <td>1906</td>\n",
       "      <td>2716.7</td>\n",
       "      <td>31275</td>\n",
       "      <td>NaN</td>\n",
       "      <td>3</td>\n",
       "      <td>NaN</td>\n",
       "      <td>Largest capital by municipal land area.</td>\n",
       "    </tr>\n",
       "    <tr>\n",
       "      <th>2</th>\n",
       "      <td>Arizona</td>\n",
       "      <td>AZ</td>\n",
       "      <td>1912</td>\n",
       "      <td>Phoenix</td>\n",
       "      <td>1889</td>\n",
       "      <td>517.6</td>\n",
       "      <td>1660272</td>\n",
       "      <td>4857962.0</td>\n",
       "      <td>1</td>\n",
       "      <td>5.0</td>\n",
       "      <td>Phoenix is the most populous capital city in t...</td>\n",
       "    </tr>\n",
       "    <tr>\n",
       "      <th>3</th>\n",
       "      <td>Arkansas</td>\n",
       "      <td>AR</td>\n",
       "      <td>1836</td>\n",
       "      <td>Little Rock</td>\n",
       "      <td>1821</td>\n",
       "      <td>116.2</td>\n",
       "      <td>193524</td>\n",
       "      <td>699757.0</td>\n",
       "      <td>1</td>\n",
       "      <td>117.0</td>\n",
       "      <td>Little Rock is the largest city and metropolit...</td>\n",
       "    </tr>\n",
       "    <tr>\n",
       "      <th>4</th>\n",
       "      <td>California</td>\n",
       "      <td>CA</td>\n",
       "      <td>1850</td>\n",
       "      <td>Sacramento</td>\n",
       "      <td>1854</td>\n",
       "      <td>97.9</td>\n",
       "      <td>508529</td>\n",
       "      <td>2345210.0</td>\n",
       "      <td>6</td>\n",
       "      <td>35.0</td>\n",
       "      <td>NaN</td>\n",
       "    </tr>\n",
       "  </tbody>\n",
       "</table>\n",
       "</div>"
      ],
      "text/plain": [
       "        State Abr.  State-hood Rank      Capital  Capital Since  Area (sq-mi)  \\\n",
       "0     Alabama   AL             1819   Montgomery           1846         159.8   \n",
       "1      Alaska   AK             1959       Juneau           1906        2716.7   \n",
       "2     Arizona   AZ             1912      Phoenix           1889         517.6   \n",
       "3    Arkansas   AR             1836  Little Rock           1821         116.2   \n",
       "4  California   CA             1850   Sacramento           1854          97.9   \n",
       "\n",
       "   Municipal Population  Metropolitan  Metropolitan Population  \\\n",
       "0                198218      373903.0                        2   \n",
       "1                 31275           NaN                        3   \n",
       "2               1660272     4857962.0                        1   \n",
       "3                193524      699757.0                        1   \n",
       "4                508529     2345210.0                        6   \n",
       "\n",
       "   Population Rank                                              Notes  \n",
       "0            119.0            Birmingham is the state's largest city.  \n",
       "1              NaN            Largest capital by municipal land area.  \n",
       "2              5.0  Phoenix is the most populous capital city in t...  \n",
       "3            117.0  Little Rock is the largest city and metropolit...  \n",
       "4             35.0                                                NaN  "
      ]
     },
     "execution_count": 13,
     "metadata": {},
     "output_type": "execute_result"
    }
   ],
   "source": [
    "df = tables[0]\n",
    "df.columns = ['State', 'Abr.', 'State-hood Rank', 'Capital', \n",
    "              'Capital Since', 'Area (sq-mi)', 'Municipal Population', 'Metropolitan', \n",
    "              'Metropolitan Population', 'Population Rank', 'Notes']\n",
    "df.head()"
   ]
  },
  {
   "cell_type": "markdown",
   "metadata": {
    "slideshow": {
     "slide_type": "subslide"
    }
   },
   "source": [
    "### Create new dataframe based off needed columns from State Data table"
   ]
  },
  {
   "cell_type": "code",
   "execution_count": 15,
   "metadata": {
    "slideshow": {
     "slide_type": "fragment"
    }
   },
   "outputs": [
    {
     "data": {
      "text/html": [
       "<div>\n",
       "<style scoped>\n",
       "    .dataframe tbody tr th:only-of-type {\n",
       "        vertical-align: middle;\n",
       "    }\n",
       "\n",
       "    .dataframe tbody tr th {\n",
       "        vertical-align: top;\n",
       "    }\n",
       "\n",
       "    .dataframe thead th {\n",
       "        text-align: right;\n",
       "    }\n",
       "</style>\n",
       "<table border=\"1\" class=\"dataframe\">\n",
       "  <thead>\n",
       "    <tr style=\"text-align: right;\">\n",
       "      <th></th>\n",
       "      <th>State</th>\n",
       "      <th>Abr.</th>\n",
       "    </tr>\n",
       "  </thead>\n",
       "  <tbody>\n",
       "    <tr>\n",
       "      <th>0</th>\n",
       "      <td>Alabama</td>\n",
       "      <td>AL</td>\n",
       "    </tr>\n",
       "    <tr>\n",
       "      <th>1</th>\n",
       "      <td>Alaska</td>\n",
       "      <td>AK</td>\n",
       "    </tr>\n",
       "    <tr>\n",
       "      <th>2</th>\n",
       "      <td>Arizona</td>\n",
       "      <td>AZ</td>\n",
       "    </tr>\n",
       "    <tr>\n",
       "      <th>3</th>\n",
       "      <td>Arkansas</td>\n",
       "      <td>AR</td>\n",
       "    </tr>\n",
       "    <tr>\n",
       "      <th>4</th>\n",
       "      <td>California</td>\n",
       "      <td>CA</td>\n",
       "    </tr>\n",
       "  </tbody>\n",
       "</table>\n",
       "</div>"
      ],
      "text/plain": [
       "        State Abr.\n",
       "0     Alabama   AL\n",
       "1      Alaska   AK\n",
       "2     Arizona   AZ\n",
       "3    Arkansas   AR\n",
       "4  California   CA"
      ]
     },
     "execution_count": 15,
     "metadata": {},
     "output_type": "execute_result"
    }
   ],
   "source": [
    "state_abbreviations = df[['State','Abr.']]\n",
    "state_abbreviations.head()"
   ]
  },
  {
   "cell_type": "markdown",
   "metadata": {},
   "source": [
    "### Export States and Abbreviations to CSV for use with other analyses"
   ]
  },
  {
   "cell_type": "code",
   "execution_count": 19,
   "metadata": {
    "slideshow": {
     "slide_type": "subslide"
    }
   },
   "outputs": [],
   "source": [
    "state_abbreviations.to_csv(os.path.join(\"Data\", \"state_abbreviations.csv\"))"
   ]
  },
  {
   "cell_type": "code",
   "execution_count": null,
   "metadata": {
    "slideshow": {
     "slide_type": "fragment"
    }
   },
   "outputs": [],
   "source": []
  },
  {
   "cell_type": "code",
   "execution_count": null,
   "metadata": {},
   "outputs": [],
   "source": []
  }
 ],
 "metadata": {
  "celltoolbar": "Slideshow",
  "kernelspec": {
   "display_name": "Python 3",
   "language": "python",
   "name": "python3"
  },
  "language_info": {
   "codemirror_mode": {
    "name": "ipython",
    "version": 3
   },
   "file_extension": ".py",
   "mimetype": "text/x-python",
   "name": "python",
   "nbconvert_exporter": "python",
   "pygments_lexer": "ipython3",
   "version": "3.7.3"
  },
  "varInspector": {
   "cols": {
    "lenName": 16,
    "lenType": 16,
    "lenVar": 40
   },
   "kernels_config": {
    "python": {
     "delete_cmd_postfix": "",
     "delete_cmd_prefix": "del ",
     "library": "var_list.py",
     "varRefreshCmd": "print(var_dic_list())"
    },
    "r": {
     "delete_cmd_postfix": ") ",
     "delete_cmd_prefix": "rm(",
     "library": "var_list.r",
     "varRefreshCmd": "cat(var_dic_list()) "
    }
   },
   "types_to_exclude": [
    "module",
    "function",
    "builtin_function_or_method",
    "instance",
    "_Feature"
   ],
   "window_display": false
  }
 },
 "nbformat": 4,
 "nbformat_minor": 4
}
